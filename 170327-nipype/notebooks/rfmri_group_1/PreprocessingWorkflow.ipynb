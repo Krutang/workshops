{
 "cells": [
  {
   "cell_type": "code",
   "execution_count": 1,
   "metadata": {},
   "outputs": [],
   "source": [
    "# Import workflow elements\n",
    "from nipype import Node, Workflow"
   ]
  },
  {
   "cell_type": "code",
   "execution_count": 2,
   "metadata": {},
   "outputs": [],
   "source": [
    "# Import necessary interfaces\n",
    "from nipype.interfaces import fsl, afni"
   ]
  },
  {
   "cell_type": "code",
   "execution_count": 7,
   "metadata": {},
   "outputs": [],
   "source": [
    "#Define workflow and create nodes\n",
    "wf = Workflow(name=\"group1_pre_process\")\n",
    "wf.base_dir = 'group1_results'\n",
    "\n",
    "#Skullstrip\n",
    "node_skull_strip = Node(fsl.BET(mask=True), name='bet')\n",
    "\n",
    "#FLIRT\n",
    "node_volreg = Node(fsl.MCFLIRT(), name='volreg')\n",
    "\n",
    "#Volreg AFNI\n",
    "#node_afni_volreg = Node(afni.Volreg(), name='volreg_afni')\n",
    "\n"
   ]
  },
  {
   "cell_type": "code",
   "execution_count": 8,
   "metadata": {},
   "outputs": [],
   "source": [
    "#Connet nodes\n",
    "wf.connect(node_skull_strip, 'out_file', node_volreg,'in_file')\n",
    "#wf.connect(node_skull_strip, 'out_file', node_afni_volreg,'in_file')"
   ]
  },
  {
   "cell_type": "code",
   "execution_count": null,
   "metadata": {},
   "outputs": [],
   "source": []
  },
  {
   "cell_type": "code",
   "execution_count": 9,
   "metadata": {},
   "outputs": [
    {
     "name": "stdout",
     "output_type": "stream",
     "text": [
      "170329-15:10:21,448 workflow INFO:\n",
      "\t Workflow group1_pre_process settings: ['check', 'execution', 'logging']\n",
      "170329-15:10:21,456 workflow INFO:\n",
      "\t Running serially.\n",
      "170329-15:10:21,459 workflow INFO:\n",
      "\t Executing node bet in dir: /home/jovyan/work/workshops/170327-nipype/notebooks/rfmri_group_1/group1_results/group1_pre_process/bet\n",
      "170329-15:10:21,462 workflow INFO:\n",
      "\t Collecting precomputed outputs\n",
      "170329-15:10:21,466 workflow INFO:\n",
      "\t Executing node volreg in dir: /home/jovyan/work/workshops/170327-nipype/notebooks/rfmri_group_1/group1_results/group1_pre_process/volreg\n",
      "170329-15:10:21,469 workflow INFO:\n",
      "\t Collecting precomputed outputs\n"
     ]
    },
    {
     "data": {
      "text/plain": [
       "<networkx.classes.digraph.DiGraph at 0x7f29b8581780>"
      ]
     },
     "execution_count": 9,
     "metadata": {},
     "output_type": "execute_result"
    }
   ],
   "source": [
    "wf.inputs.bet.in_file = \"/home/jovyan/work/data/ds000114/sub-01/func/sub-01_task-linebisection_bold.nii.gz\"\n",
    "wf.run()"
   ]
  },
  {
   "cell_type": "code",
   "execution_count": 10,
   "metadata": {},
   "outputs": [
    {
     "name": "stdout",
     "output_type": "stream",
     "text": [
      "170329-15:10:22,662 workflow INFO:\n",
      "\t Generated workflow graph: group1_results/group1_pre_process/graph.dot.png (graph2use=hierarchical, simple_form=True).\n"
     ]
    },
    {
     "data": {
      "image/png": "[encoded data removed]",
      "text/plain": [
       "<IPython.core.display.Image object>"
      ]
     },
     "execution_count": 10,
     "metadata": {},
     "output_type": "execute_result"
    }
   ],
   "source": [
    "from IPython.display import Image\n",
    "Image(wf.write_graph())"
   ]
  },
  {
   "cell_type": "code",
   "execution_count": null,
   "metadata": {},
   "outputs": [],
   "source": []
  },
  {
   "cell_type": "code",
   "execution_count": null,
   "metadata": {},
   "outputs": [],
   "source": []
  }
 ],
 "metadata": {
  "kernelspec": {
   "display_name": "Python 3",
   "language": "python",
   "name": "python3"
  },
  "language_info": {
   "codemirror_mode": {
    "name": "ipython",
    "version": 3
   },
   "file_extension": ".py",
   "mimetype": "text/x-python",
   "name": "python",
   "nbconvert_exporter": "python",
   "pygments_lexer": "ipython3",
   "version": "3.5.2"
  }
 },
 "nbformat": 4,
 "nbformat_minor": 2
}
